{
 "cells": [
  {
   "cell_type": "markdown",
   "metadata": {},
   "source": [
    "# Modeling\n",
    "We make forecasting models for our Power BI Report."
   ]
  },
  {
   "cell_type": "code",
   "execution_count": 168,
   "metadata": {},
   "outputs": [
    {
     "data": {
      "text/html": [
       "<div>\n",
       "<style scoped>\n",
       "    .dataframe tbody tr th:only-of-type {\n",
       "        vertical-align: middle;\n",
       "    }\n",
       "\n",
       "    .dataframe tbody tr th {\n",
       "        vertical-align: top;\n",
       "    }\n",
       "\n",
       "    .dataframe thead th {\n",
       "        text-align: right;\n",
       "    }\n",
       "</style>\n",
       "<table border=\"1\" class=\"dataframe\">\n",
       "  <thead>\n",
       "    <tr style=\"text-align: right;\">\n",
       "      <th></th>\n",
       "      <th>item_id</th>\n",
       "      <th>status</th>\n",
       "      <th>created_at</th>\n",
       "      <th>sku</th>\n",
       "      <th>price</th>\n",
       "      <th>qty_ordered</th>\n",
       "      <th>grand_total</th>\n",
       "      <th>increment_id</th>\n",
       "      <th>category_name_1</th>\n",
       "      <th>sales_commission_code</th>\n",
       "      <th>...</th>\n",
       "      <th>payment_method</th>\n",
       "      <th>Working Date</th>\n",
       "      <th>BI Status</th>\n",
       "      <th>MV</th>\n",
       "      <th>Year</th>\n",
       "      <th>Month</th>\n",
       "      <th>Customer Since</th>\n",
       "      <th>M-Y</th>\n",
       "      <th>FY</th>\n",
       "      <th>Customer ID</th>\n",
       "    </tr>\n",
       "  </thead>\n",
       "  <tbody>\n",
       "    <tr>\n",
       "      <th>0</th>\n",
       "      <td>211133</td>\n",
       "      <td>canceled</td>\n",
       "      <td>2016-07-01</td>\n",
       "      <td>kccBuy2FreyAirFreshenerGet1KasualBodySprayFree</td>\n",
       "      <td>240.0</td>\n",
       "      <td>1.0</td>\n",
       "      <td>240.0</td>\n",
       "      <td>100147444</td>\n",
       "      <td>Beauty &amp; Grooming</td>\n",
       "      <td>False</td>\n",
       "      <td>...</td>\n",
       "      <td>cod</td>\n",
       "      <td>2016-07-01</td>\n",
       "      <td>Gross</td>\n",
       "      <td>240.0</td>\n",
       "      <td>2016</td>\n",
       "      <td>7</td>\n",
       "      <td>2016-07-01</td>\n",
       "      <td>2016-07-01</td>\n",
       "      <td>FY17</td>\n",
       "      <td>2</td>\n",
       "    </tr>\n",
       "    <tr>\n",
       "      <th>1</th>\n",
       "      <td>211134</td>\n",
       "      <td>canceled</td>\n",
       "      <td>2016-07-01</td>\n",
       "      <td>EgoUP0017999MR0</td>\n",
       "      <td>2450.0</td>\n",
       "      <td>1.0</td>\n",
       "      <td>2450.0</td>\n",
       "      <td>100147445</td>\n",
       "      <td>Women's Fashion</td>\n",
       "      <td>False</td>\n",
       "      <td>...</td>\n",
       "      <td>cod</td>\n",
       "      <td>2016-07-01</td>\n",
       "      <td>Gross</td>\n",
       "      <td>2450.0</td>\n",
       "      <td>2016</td>\n",
       "      <td>7</td>\n",
       "      <td>2016-07-01</td>\n",
       "      <td>2016-07-01</td>\n",
       "      <td>FY17</td>\n",
       "      <td>3</td>\n",
       "    </tr>\n",
       "    <tr>\n",
       "      <th>2</th>\n",
       "      <td>211135</td>\n",
       "      <td>complete</td>\n",
       "      <td>2016-07-01</td>\n",
       "      <td>kcckronedeal</td>\n",
       "      <td>360.0</td>\n",
       "      <td>1.0</td>\n",
       "      <td>60.0</td>\n",
       "      <td>100147446</td>\n",
       "      <td>Beauty &amp; Grooming</td>\n",
       "      <td>True</td>\n",
       "      <td>...</td>\n",
       "      <td>cod</td>\n",
       "      <td>2016-07-01</td>\n",
       "      <td>Net</td>\n",
       "      <td>360.0</td>\n",
       "      <td>2016</td>\n",
       "      <td>7</td>\n",
       "      <td>2016-07-01</td>\n",
       "      <td>2016-07-01</td>\n",
       "      <td>FY17</td>\n",
       "      <td>4</td>\n",
       "    </tr>\n",
       "    <tr>\n",
       "      <th>3</th>\n",
       "      <td>211136</td>\n",
       "      <td>refunded</td>\n",
       "      <td>2016-07-01</td>\n",
       "      <td>BK7010400AG</td>\n",
       "      <td>555.0</td>\n",
       "      <td>2.0</td>\n",
       "      <td>1110.0</td>\n",
       "      <td>100147447</td>\n",
       "      <td>Soghaat</td>\n",
       "      <td>False</td>\n",
       "      <td>...</td>\n",
       "      <td>cod</td>\n",
       "      <td>2016-07-01</td>\n",
       "      <td>Valid</td>\n",
       "      <td>1110.0</td>\n",
       "      <td>2016</td>\n",
       "      <td>7</td>\n",
       "      <td>2016-07-01</td>\n",
       "      <td>2016-07-01</td>\n",
       "      <td>FY17</td>\n",
       "      <td>5</td>\n",
       "    </tr>\n",
       "    <tr>\n",
       "      <th>4</th>\n",
       "      <td>211137</td>\n",
       "      <td>canceled</td>\n",
       "      <td>2016-07-01</td>\n",
       "      <td>UKNamkinoAllInOne200Gms</td>\n",
       "      <td>80.0</td>\n",
       "      <td>1.0</td>\n",
       "      <td>80.0</td>\n",
       "      <td>100147448</td>\n",
       "      <td>Soghaat</td>\n",
       "      <td>False</td>\n",
       "      <td>...</td>\n",
       "      <td>cod</td>\n",
       "      <td>2016-07-01</td>\n",
       "      <td>Gross</td>\n",
       "      <td>80.0</td>\n",
       "      <td>2016</td>\n",
       "      <td>7</td>\n",
       "      <td>2016-07-01</td>\n",
       "      <td>2016-07-01</td>\n",
       "      <td>FY17</td>\n",
       "      <td>6</td>\n",
       "    </tr>\n",
       "  </tbody>\n",
       "</table>\n",
       "<p>5 rows × 21 columns</p>\n",
       "</div>"
      ],
      "text/plain": [
       "   item_id    status  created_at  \\\n",
       "0   211133  canceled  2016-07-01   \n",
       "1   211134  canceled  2016-07-01   \n",
       "2   211135  complete  2016-07-01   \n",
       "3   211136  refunded  2016-07-01   \n",
       "4   211137  canceled  2016-07-01   \n",
       "\n",
       "                                              sku   price  qty_ordered  \\\n",
       "0  kccBuy2FreyAirFreshenerGet1KasualBodySprayFree   240.0          1.0   \n",
       "1                                 EgoUP0017999MR0  2450.0          1.0   \n",
       "2                                    kcckronedeal   360.0          1.0   \n",
       "3                                     BK7010400AG   555.0          2.0   \n",
       "4                         UKNamkinoAllInOne200Gms    80.0          1.0   \n",
       "\n",
       "   grand_total  increment_id    category_name_1  sales_commission_code  ...  \\\n",
       "0        240.0     100147444  Beauty & Grooming                  False  ...   \n",
       "1       2450.0     100147445    Women's Fashion                  False  ...   \n",
       "2         60.0     100147446  Beauty & Grooming                   True  ...   \n",
       "3       1110.0     100147447            Soghaat                  False  ...   \n",
       "4         80.0     100147448            Soghaat                  False  ...   \n",
       "\n",
       "   payment_method Working Date BI Status     MV   Year  Month  Customer Since  \\\n",
       "0             cod   2016-07-01     Gross   240.0  2016      7      2016-07-01   \n",
       "1             cod   2016-07-01     Gross  2450.0  2016      7      2016-07-01   \n",
       "2             cod   2016-07-01       Net   360.0  2016      7      2016-07-01   \n",
       "3             cod   2016-07-01     Valid  1110.0  2016      7      2016-07-01   \n",
       "4             cod   2016-07-01     Gross    80.0  2016      7      2016-07-01   \n",
       "\n",
       "          M-Y    FY Customer ID  \n",
       "0  2016-07-01  FY17           2  \n",
       "1  2016-07-01  FY17           3  \n",
       "2  2016-07-01  FY17           4  \n",
       "3  2016-07-01  FY17           5  \n",
       "4  2016-07-01  FY17           6  \n",
       "\n",
       "[5 rows x 21 columns]"
      ]
     },
     "execution_count": 168,
     "metadata": {},
     "output_type": "execute_result"
    }
   ],
   "source": [
    "import pandas as pd\n",
    "\n",
    "path = \"../data/\"\n",
    "data = pd.read_csv(path+\"processed/data.csv\")\n",
    "data.head()"
   ]
  },
  {
   "cell_type": "markdown",
   "metadata": {},
   "source": [
    "# Data Preparation"
   ]
  },
  {
   "cell_type": "markdown",
   "metadata": {},
   "source": [
    "## Time Series\n",
    "Convert raw data to time series data."
   ]
  },
  {
   "cell_type": "markdown",
   "metadata": {},
   "source": [
    "Note, we consider each individual item as an order, so multiple items by same customer will be considered separate orders."
   ]
  },
  {
   "cell_type": "code",
   "execution_count": 169,
   "metadata": {},
   "outputs": [
    {
     "data": {
      "text/plain": [
       "Date\n",
       "2016-07-01    528\n",
       "2016-07-02    254\n",
       "2016-07-03    203\n",
       "2016-07-04    216\n",
       "2016-07-05    164\n",
       "Name: Total, dtype: int64"
      ]
     },
     "execution_count": 169,
     "metadata": {},
     "output_type": "execute_result"
    }
   ],
   "source": [
    "orders = data[[\"created_at\", \"item_id\"]]\n",
    "orders.columns = [\"Date\", \"Total\"]\n",
    "\n",
    "orders = orders.groupby(\"Date\")[\"Total\"].count()\n",
    "\n",
    "orders.head()"
   ]
  },
  {
   "cell_type": "code",
   "execution_count": 170,
   "metadata": {},
   "outputs": [
    {
     "data": {
      "text/plain": [
       "Date\n",
       "2016-07-01    1284503.75\n",
       "2016-07-02    1394837.48\n",
       "2016-07-03    2143719.88\n",
       "2016-07-04    1094068.25\n",
       "2016-07-05     910507.50\n",
       "Name: Total, dtype: float64"
      ]
     },
     "execution_count": 170,
     "metadata": {},
     "output_type": "execute_result"
    }
   ],
   "source": [
    "revenue = data[[\"created_at\", \"grand_total\"]]\n",
    "revenue.columns = [\"Date\", \"Total\"]\n",
    "\n",
    "revenue = revenue.groupby(\"Date\")[\"Total\"].sum()\n",
    "\n",
    "revenue.head()"
   ]
  },
  {
   "cell_type": "code",
   "execution_count": 171,
   "metadata": {},
   "outputs": [
    {
     "name": "stdout",
     "output_type": "stream",
     "text": [
      "576480\n",
      "114211\n",
      "462269\n",
      "576480\n",
      "576480\n",
      "114211\n"
     ]
    },
    {
     "data": {
      "text/plain": [
       "Date\n",
       "2016-07-01     2374\n",
       "2016-08-01     3065\n",
       "2016-09-01     4483\n",
       "2016-10-01     2361\n",
       "2016-11-01    14373\n",
       "Name: Total, dtype: int64"
      ]
     },
     "execution_count": 171,
     "metadata": {},
     "output_type": "execute_result"
    }
   ],
   "source": [
    "new_customers = data[[\"Customer Since\", \"Customer ID\"]]\n",
    "new_customers.columns = [\"Date\", \"Total\"]\n",
    "\n",
    "print(data.shape[0])\n",
    "print(len(data[\"Customer ID\"].unique()))\n",
    "print(new_customers.duplicated().sum())\n",
    "print(len(data[\"Customer ID\"].unique()) + new_customers.duplicated().sum())\n",
    "\n",
    "print(new_customers.shape[0])\n",
    "new_customers = new_customers.drop_duplicates()\n",
    "print(new_customers.shape[0])\n",
    "\n",
    "new_customers = new_customers.groupby(\"Date\")[\"Total\"].count()\n",
    "\n",
    "new_customers.head()"
   ]
  },
  {
   "cell_type": "markdown",
   "metadata": {},
   "source": [
    "Incomplete purchases comprise of all unfullfilled orders, e.g refunds, cancellation, payment failure etc."
   ]
  },
  {
   "cell_type": "code",
   "execution_count": 172,
   "metadata": {},
   "outputs": [
    {
     "name": "stdout",
     "output_type": "stream",
     "text": [
      "576480\n",
      "268815\n"
     ]
    },
    {
     "data": {
      "text/plain": [
       "Date\n",
       "2016-07-01    167\n",
       "2016-07-02    114\n",
       "2016-07-03    113\n",
       "2016-07-04     77\n",
       "2016-07-05     69\n",
       "Name: Total, dtype: int64"
      ]
     },
     "execution_count": 172,
     "metadata": {},
     "output_type": "execute_result"
    }
   ],
   "source": [
    "incomplete_purchases = data[[\"created_at\", \"status\"]]\n",
    "\n",
    "print(incomplete_purchases.shape[0])\n",
    "incomplete_purchases = incomplete_purchases[incomplete_purchases[\"status\"] != \"complete\"]\n",
    "incomplete_purchases = incomplete_purchases[incomplete_purchases[\"status\"] != \"received\"]\n",
    "incomplete_purchases = incomplete_purchases[incomplete_purchases[\"status\"] != \"payment_review\"]\n",
    "print(incomplete_purchases.shape[0])\n",
    "\n",
    "incomplete_purchases.columns = [\"Date\", \"Total\"]\n",
    "incomplete_purchases = incomplete_purchases.groupby(\"Date\")[\"Total\"].count()\n",
    "\n",
    "incomplete_purchases.head()"
   ]
  },
  {
   "cell_type": "code",
   "execution_count": 173,
   "metadata": {},
   "outputs": [
    {
     "data": {
      "text/html": [
       "<div>\n",
       "<style scoped>\n",
       "    .dataframe tbody tr th:only-of-type {\n",
       "        vertical-align: middle;\n",
       "    }\n",
       "\n",
       "    .dataframe tbody tr th {\n",
       "        vertical-align: top;\n",
       "    }\n",
       "\n",
       "    .dataframe thead th {\n",
       "        text-align: right;\n",
       "    }\n",
       "</style>\n",
       "<table border=\"1\" class=\"dataframe\">\n",
       "  <thead>\n",
       "    <tr style=\"text-align: right;\">\n",
       "      <th></th>\n",
       "      <th>Appliances</th>\n",
       "      <th>Beauty &amp; Grooming</th>\n",
       "      <th>Books</th>\n",
       "      <th>Computing</th>\n",
       "      <th>Entertainment</th>\n",
       "      <th>Health &amp; Sports</th>\n",
       "      <th>Home &amp; Living</th>\n",
       "      <th>Kids &amp; Baby</th>\n",
       "      <th>Men's Fashion</th>\n",
       "      <th>Mobiles &amp; Tablets</th>\n",
       "      <th>Others</th>\n",
       "      <th>School &amp; Education</th>\n",
       "      <th>Soghaat</th>\n",
       "      <th>Superstore</th>\n",
       "      <th>Women's Fashion</th>\n",
       "    </tr>\n",
       "    <tr>\n",
       "      <th>Date</th>\n",
       "      <th></th>\n",
       "      <th></th>\n",
       "      <th></th>\n",
       "      <th></th>\n",
       "      <th></th>\n",
       "      <th></th>\n",
       "      <th></th>\n",
       "      <th></th>\n",
       "      <th></th>\n",
       "      <th></th>\n",
       "      <th></th>\n",
       "      <th></th>\n",
       "      <th></th>\n",
       "      <th></th>\n",
       "      <th></th>\n",
       "    </tr>\n",
       "  </thead>\n",
       "  <tbody>\n",
       "    <tr>\n",
       "      <th>2016-07-01</th>\n",
       "      <td>16.0</td>\n",
       "      <td>237.0</td>\n",
       "      <td>0.0</td>\n",
       "      <td>6.0</td>\n",
       "      <td>1.0</td>\n",
       "      <td>2.0</td>\n",
       "      <td>15.0</td>\n",
       "      <td>15.0</td>\n",
       "      <td>44.0</td>\n",
       "      <td>23.0</td>\n",
       "      <td>5.0</td>\n",
       "      <td>0.0</td>\n",
       "      <td>131.0</td>\n",
       "      <td>1.0</td>\n",
       "      <td>32.0</td>\n",
       "    </tr>\n",
       "    <tr>\n",
       "      <th>2016-07-02</th>\n",
       "      <td>14.0</td>\n",
       "      <td>43.0</td>\n",
       "      <td>1.0</td>\n",
       "      <td>12.0</td>\n",
       "      <td>2.0</td>\n",
       "      <td>4.0</td>\n",
       "      <td>13.0</td>\n",
       "      <td>9.0</td>\n",
       "      <td>42.0</td>\n",
       "      <td>25.0</td>\n",
       "      <td>1.0</td>\n",
       "      <td>0.0</td>\n",
       "      <td>80.0</td>\n",
       "      <td>0.0</td>\n",
       "      <td>8.0</td>\n",
       "    </tr>\n",
       "    <tr>\n",
       "      <th>2016-07-03</th>\n",
       "      <td>3.0</td>\n",
       "      <td>22.0</td>\n",
       "      <td>0.0</td>\n",
       "      <td>7.0</td>\n",
       "      <td>0.0</td>\n",
       "      <td>9.0</td>\n",
       "      <td>10.0</td>\n",
       "      <td>5.0</td>\n",
       "      <td>28.0</td>\n",
       "      <td>8.0</td>\n",
       "      <td>0.0</td>\n",
       "      <td>0.0</td>\n",
       "      <td>92.0</td>\n",
       "      <td>0.0</td>\n",
       "      <td>19.0</td>\n",
       "    </tr>\n",
       "    <tr>\n",
       "      <th>2016-07-04</th>\n",
       "      <td>9.0</td>\n",
       "      <td>38.0</td>\n",
       "      <td>0.0</td>\n",
       "      <td>8.0</td>\n",
       "      <td>2.0</td>\n",
       "      <td>3.0</td>\n",
       "      <td>10.0</td>\n",
       "      <td>7.0</td>\n",
       "      <td>40.0</td>\n",
       "      <td>15.0</td>\n",
       "      <td>3.0</td>\n",
       "      <td>7.0</td>\n",
       "      <td>65.0</td>\n",
       "      <td>0.0</td>\n",
       "      <td>9.0</td>\n",
       "    </tr>\n",
       "    <tr>\n",
       "      <th>2016-07-05</th>\n",
       "      <td>2.0</td>\n",
       "      <td>29.0</td>\n",
       "      <td>0.0</td>\n",
       "      <td>8.0</td>\n",
       "      <td>2.0</td>\n",
       "      <td>3.0</td>\n",
       "      <td>18.0</td>\n",
       "      <td>4.0</td>\n",
       "      <td>20.0</td>\n",
       "      <td>12.0</td>\n",
       "      <td>1.0</td>\n",
       "      <td>15.0</td>\n",
       "      <td>41.0</td>\n",
       "      <td>0.0</td>\n",
       "      <td>9.0</td>\n",
       "    </tr>\n",
       "  </tbody>\n",
       "</table>\n",
       "</div>"
      ],
      "text/plain": [
       "            Appliances  Beauty & Grooming  Books  Computing  Entertainment  \\\n",
       "Date                                                                         \n",
       "2016-07-01        16.0              237.0    0.0        6.0            1.0   \n",
       "2016-07-02        14.0               43.0    1.0       12.0            2.0   \n",
       "2016-07-03         3.0               22.0    0.0        7.0            0.0   \n",
       "2016-07-04         9.0               38.0    0.0        8.0            2.0   \n",
       "2016-07-05         2.0               29.0    0.0        8.0            2.0   \n",
       "\n",
       "            Health & Sports  Home & Living  Kids & Baby  Men's Fashion  \\\n",
       "Date                                                                     \n",
       "2016-07-01              2.0           15.0         15.0           44.0   \n",
       "2016-07-02              4.0           13.0          9.0           42.0   \n",
       "2016-07-03              9.0           10.0          5.0           28.0   \n",
       "2016-07-04              3.0           10.0          7.0           40.0   \n",
       "2016-07-05              3.0           18.0          4.0           20.0   \n",
       "\n",
       "            Mobiles & Tablets  Others  School & Education  Soghaat  \\\n",
       "Date                                                                 \n",
       "2016-07-01               23.0     5.0                 0.0    131.0   \n",
       "2016-07-02               25.0     1.0                 0.0     80.0   \n",
       "2016-07-03                8.0     0.0                 0.0     92.0   \n",
       "2016-07-04               15.0     3.0                 7.0     65.0   \n",
       "2016-07-05               12.0     1.0                15.0     41.0   \n",
       "\n",
       "            Superstore  Women's Fashion  \n",
       "Date                                     \n",
       "2016-07-01         1.0             32.0  \n",
       "2016-07-02         0.0              8.0  \n",
       "2016-07-03         0.0             19.0  \n",
       "2016-07-04         0.0              9.0  \n",
       "2016-07-05         0.0              9.0  "
      ]
     },
     "execution_count": 173,
     "metadata": {},
     "output_type": "execute_result"
    }
   ],
   "source": [
    "orders_by_cat = data[[\"created_at\", \"item_id\", \"category_name_1\"]]\n",
    "orders_by_cat.columns = [\"Date\", \"Item ID\", \"Product Category\"]\n",
    "\n",
    "orders_by_cat = orders_by_cat.groupby([\"Date\", \"Product Category\"])[\"Item ID\"].count()\n",
    "orders_by_cat = pd.DataFrame(orders_by_cat).reset_index().pivot(columns=[\"Product Category\"], index=[\"Date\"])\n",
    "orders_by_cat = orders_by_cat.fillna(0)\n",
    "\n",
    "def col_name_correct(tup):\n",
    "    return tup[1]\n",
    "orders_by_cat.columns = orders_by_cat.columns.map(col_name_correct)\n",
    "\n",
    "orders_by_cat.head()"
   ]
  },
  {
   "cell_type": "markdown",
   "metadata": {},
   "source": [
    "Note, we might have missing days. So lets correct that."
   ]
  },
  {
   "cell_type": "code",
   "execution_count": 174,
   "metadata": {},
   "outputs": [],
   "source": [
    "def get_days(series, date_col):\n",
    "    df = pd.DataFrame(series).reset_index()\n",
    "    dates = pd.DataFrame(pd.date_range(start=df[date_col].min(), end=df[date_col].max(), freq=\"D\"))\n",
    "    dates.columns = [date_col]\n",
    "    return dates\n",
    "\n",
    "def get_months(series, date_col):\n",
    "    df = pd.DataFrame(series).reset_index()\n",
    "    dates = pd.DataFrame(pd.date_range(start=df[date_col].min(), end=df[date_col].max(), freq=\"MS\"))\n",
    "    dates.columns = [date_col]\n",
    "    return dates"
   ]
  },
  {
   "cell_type": "code",
   "execution_count": 175,
   "metadata": {},
   "outputs": [
    {
     "name": "stdout",
     "output_type": "stream",
     "text": [
      "100.0\n",
      "100.0\n",
      "100.0\n",
      "100.0\n",
      "6.666666666666667\n"
     ]
    }
   ],
   "source": [
    "print((orders.shape[0] / (get_days(orders, \"Date\").shape[0])) * 100) \n",
    "print((revenue.shape[0] / (get_days(revenue, \"Date\").shape[0])) * 100)\n",
    "print((new_customers.shape[0] / (get_months(new_customers, \"Date\").shape[0])) * 100)\n",
    "print((incomplete_purchases.shape[0] / (get_days(incomplete_purchases, \"Date\").shape[0])) * 100)\n",
    "print((orders_by_cat.shape[0] / (get_days(orders_by_cat, \"Date\").shape[0]*15)) * 100)"
   ]
  },
  {
   "cell_type": "code",
   "execution_count": 176,
   "metadata": {},
   "outputs": [],
   "source": [
    "def complete_dates(series, date_col, days=True):\n",
    "    \"\"\"\n",
    "        series:\n",
    "            [pd.Series]\n",
    "            Needs to be of structure such that index are an iso standard date and values column for pd.Series\n",
    "\n",
    "        date_col:\n",
    "            [String]\n",
    "            Name of index column for pd.Series or name of dates column for pd.DataFrame\n",
    "    \"\"\"\n",
    "    \n",
    "    dates = None\n",
    "    if days:\n",
    "        dates = get_days(series, date_col)\n",
    "    else:\n",
    "        dates = get_months(series, date_col)\n",
    "\n",
    "    df = pd.DataFrame(series).reset_index()\n",
    "    df[date_col] = pd.to_datetime(df[date_col])\n",
    "    df = dates.merge(df, left_on=date_col, right_on=date_col, how=\"left\")\n",
    "    df.fillna(0)\n",
    "    return df"
   ]
  },
  {
   "cell_type": "code",
   "execution_count": null,
   "metadata": {},
   "outputs": [],
   "source": [
    "orders = complete_dates(orders, \"Date\", days=True)\n",
    "revenue = complete_dates(revenue, \"Date\", days=True)\n",
    "new_customers = complete_dates(new_customers, \"Date\", days=False)\n",
    "incomplete_purchases = complete_dates(incomplete_purchases, \"Date\", days=True)\n",
    "orders_by_cat = complete_dates(orders_by_cat, \"Date\")\n",
    "\n",
    "orders_by_cat = orders_by_cat.fillna(0)"
   ]
  },
  {
   "cell_type": "markdown",
   "metadata": {},
   "source": [
    "We have the following datframes.<br>\n",
    "`orders`, `revenue`, `new_customers`, `incomplete_purchases`, `orders_by_cat`"
   ]
  },
  {
   "cell_type": "markdown",
   "metadata": {},
   "source": [
    "## Supervised Learning\n",
    "Convert time series data to correct format for use in supervised learning tasks."
   ]
  },
  {
   "cell_type": "markdown",
   "metadata": {},
   "source": [
    "# Testing ARIMA\n",
    "We expect, that there exists trends in the data. That the variance is not constant and data might not be seasonal. Hence data is not stationary.<br>\n",
    "Lets first test our assumption that ARIMA cannot be used, then we can safely move onto other methods."
   ]
  },
  {
   "cell_type": "code",
   "execution_count": null,
   "metadata": {},
   "outputs": [],
   "source": []
  }
 ],
 "metadata": {
  "kernelspec": {
   "display_name": "local_env",
   "language": "python",
   "name": "python3"
  },
  "language_info": {
   "codemirror_mode": {
    "name": "ipython",
    "version": 3
   },
   "file_extension": ".py",
   "mimetype": "text/x-python",
   "name": "python",
   "nbconvert_exporter": "python",
   "pygments_lexer": "ipython3",
   "version": "3.12.6"
  }
 },
 "nbformat": 4,
 "nbformat_minor": 2
}
