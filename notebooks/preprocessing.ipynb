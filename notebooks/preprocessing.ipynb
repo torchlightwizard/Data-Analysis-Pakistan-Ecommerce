{
 "cells": [
  {
   "cell_type": "markdown",
   "metadata": {},
   "source": [
    "# Preprocessing"
   ]
  },
  {
   "cell_type": "code",
   "execution_count": 34,
   "metadata": {},
   "outputs": [],
   "source": [
    "import pandas as pd\n",
    "\n",
    "path = \"../data/\"\n",
    "data = pd.read_csv(path+\"raw/Pakistan Largest Ecommerce Dataset.csv\", low_memory=False)"
   ]
  },
  {
   "cell_type": "code",
   "execution_count": 36,
   "metadata": {},
   "outputs": [
    {
     "data": {
      "text/html": [
       "<div>\n",
       "<style scoped>\n",
       "    .dataframe tbody tr th:only-of-type {\n",
       "        vertical-align: middle;\n",
       "    }\n",
       "\n",
       "    .dataframe tbody tr th {\n",
       "        vertical-align: top;\n",
       "    }\n",
       "\n",
       "    .dataframe thead th {\n",
       "        text-align: right;\n",
       "    }\n",
       "</style>\n",
       "<table border=\"1\" class=\"dataframe\">\n",
       "  <thead>\n",
       "    <tr style=\"text-align: right;\">\n",
       "      <th></th>\n",
       "      <th>item_id</th>\n",
       "      <th>status</th>\n",
       "      <th>created_at</th>\n",
       "      <th>sku</th>\n",
       "      <th>price</th>\n",
       "      <th>qty_ordered</th>\n",
       "      <th>grand_total</th>\n",
       "      <th>increment_id</th>\n",
       "      <th>category_name_1</th>\n",
       "      <th>sales_commission_code</th>\n",
       "      <th>discount_amount</th>\n",
       "    </tr>\n",
       "  </thead>\n",
       "  <tbody>\n",
       "    <tr>\n",
       "      <th>0</th>\n",
       "      <td>211131.0</td>\n",
       "      <td>complete</td>\n",
       "      <td>7/1/2016</td>\n",
       "      <td>kreations_YI 06-L</td>\n",
       "      <td>1950.0</td>\n",
       "      <td>1.0</td>\n",
       "      <td>1950.0</td>\n",
       "      <td>100147443</td>\n",
       "      <td>Women's Fashion</td>\n",
       "      <td>\\N</td>\n",
       "      <td>0.0</td>\n",
       "    </tr>\n",
       "    <tr>\n",
       "      <th>1</th>\n",
       "      <td>211133.0</td>\n",
       "      <td>canceled</td>\n",
       "      <td>7/1/2016</td>\n",
       "      <td>kcc_Buy 2 Frey Air Freshener &amp; Get 1 Kasual Bo...</td>\n",
       "      <td>240.0</td>\n",
       "      <td>1.0</td>\n",
       "      <td>240.0</td>\n",
       "      <td>100147444</td>\n",
       "      <td>Beauty &amp; Grooming</td>\n",
       "      <td>\\N</td>\n",
       "      <td>0.0</td>\n",
       "    </tr>\n",
       "    <tr>\n",
       "      <th>2</th>\n",
       "      <td>211134.0</td>\n",
       "      <td>canceled</td>\n",
       "      <td>7/1/2016</td>\n",
       "      <td>Ego_UP0017-999-MR0</td>\n",
       "      <td>2450.0</td>\n",
       "      <td>1.0</td>\n",
       "      <td>2450.0</td>\n",
       "      <td>100147445</td>\n",
       "      <td>Women's Fashion</td>\n",
       "      <td>\\N</td>\n",
       "      <td>0.0</td>\n",
       "    </tr>\n",
       "    <tr>\n",
       "      <th>3</th>\n",
       "      <td>211135.0</td>\n",
       "      <td>complete</td>\n",
       "      <td>7/1/2016</td>\n",
       "      <td>kcc_krone deal</td>\n",
       "      <td>360.0</td>\n",
       "      <td>1.0</td>\n",
       "      <td>60.0</td>\n",
       "      <td>100147446</td>\n",
       "      <td>Beauty &amp; Grooming</td>\n",
       "      <td>R-FSD-52352</td>\n",
       "      <td>300.0</td>\n",
       "    </tr>\n",
       "    <tr>\n",
       "      <th>4</th>\n",
       "      <td>211136.0</td>\n",
       "      <td>order_refunded</td>\n",
       "      <td>7/1/2016</td>\n",
       "      <td>BK7010400AG</td>\n",
       "      <td>555.0</td>\n",
       "      <td>2.0</td>\n",
       "      <td>1110.0</td>\n",
       "      <td>100147447</td>\n",
       "      <td>Soghaat</td>\n",
       "      <td>\\N</td>\n",
       "      <td>0.0</td>\n",
       "    </tr>\n",
       "  </tbody>\n",
       "</table>\n",
       "</div>"
      ],
      "text/plain": [
       "    item_id          status created_at  \\\n",
       "0  211131.0        complete   7/1/2016   \n",
       "1  211133.0        canceled   7/1/2016   \n",
       "2  211134.0        canceled   7/1/2016   \n",
       "3  211135.0        complete   7/1/2016   \n",
       "4  211136.0  order_refunded   7/1/2016   \n",
       "\n",
       "                                                 sku   price  qty_ordered  \\\n",
       "0                                  kreations_YI 06-L  1950.0          1.0   \n",
       "1  kcc_Buy 2 Frey Air Freshener & Get 1 Kasual Bo...   240.0          1.0   \n",
       "2                                 Ego_UP0017-999-MR0  2450.0          1.0   \n",
       "3                                     kcc_krone deal   360.0          1.0   \n",
       "4                                        BK7010400AG   555.0          2.0   \n",
       "\n",
       "   grand_total increment_id    category_name_1 sales_commission_code  \\\n",
       "0       1950.0    100147443    Women's Fashion                    \\N   \n",
       "1        240.0    100147444  Beauty & Grooming                    \\N   \n",
       "2       2450.0    100147445    Women's Fashion                    \\N   \n",
       "3         60.0    100147446  Beauty & Grooming           R-FSD-52352   \n",
       "4       1110.0    100147447            Soghaat                    \\N   \n",
       "\n",
       "   discount_amount  \n",
       "0              0.0  \n",
       "1              0.0  \n",
       "2              0.0  \n",
       "3            300.0  \n",
       "4              0.0  "
      ]
     },
     "execution_count": 36,
     "metadata": {},
     "output_type": "execute_result"
    }
   ],
   "source": [
    "data.head().iloc[:,:11]"
   ]
  },
  {
   "cell_type": "code",
   "execution_count": 37,
   "metadata": {},
   "outputs": [
    {
     "data": {
      "text/html": [
       "<div>\n",
       "<style scoped>\n",
       "    .dataframe tbody tr th:only-of-type {\n",
       "        vertical-align: middle;\n",
       "    }\n",
       "\n",
       "    .dataframe tbody tr th {\n",
       "        vertical-align: top;\n",
       "    }\n",
       "\n",
       "    .dataframe thead th {\n",
       "        text-align: right;\n",
       "    }\n",
       "</style>\n",
       "<table border=\"1\" class=\"dataframe\">\n",
       "  <thead>\n",
       "    <tr style=\"text-align: right;\">\n",
       "      <th></th>\n",
       "      <th>payment_method</th>\n",
       "      <th>Working Date</th>\n",
       "      <th>BI Status</th>\n",
       "      <th>MV</th>\n",
       "      <th>Year</th>\n",
       "      <th>Month</th>\n",
       "      <th>Customer Since</th>\n",
       "      <th>M-Y</th>\n",
       "      <th>FY</th>\n",
       "      <th>Customer ID</th>\n",
       "      <th>Unnamed: 21</th>\n",
       "      <th>Unnamed: 22</th>\n",
       "      <th>Unnamed: 23</th>\n",
       "      <th>Unnamed: 24</th>\n",
       "      <th>Unnamed: 25</th>\n",
       "    </tr>\n",
       "  </thead>\n",
       "  <tbody>\n",
       "    <tr>\n",
       "      <th>0</th>\n",
       "      <td>cod</td>\n",
       "      <td>7/1/2016</td>\n",
       "      <td>#REF!</td>\n",
       "      <td>1,950</td>\n",
       "      <td>2016.0</td>\n",
       "      <td>7.0</td>\n",
       "      <td>2016-7</td>\n",
       "      <td>7-2016</td>\n",
       "      <td>FY17</td>\n",
       "      <td>1.0</td>\n",
       "      <td>NaN</td>\n",
       "      <td>NaN</td>\n",
       "      <td>NaN</td>\n",
       "      <td>NaN</td>\n",
       "      <td>NaN</td>\n",
       "    </tr>\n",
       "    <tr>\n",
       "      <th>1</th>\n",
       "      <td>cod</td>\n",
       "      <td>7/1/2016</td>\n",
       "      <td>Gross</td>\n",
       "      <td>240</td>\n",
       "      <td>2016.0</td>\n",
       "      <td>7.0</td>\n",
       "      <td>2016-7</td>\n",
       "      <td>7-2016</td>\n",
       "      <td>FY17</td>\n",
       "      <td>2.0</td>\n",
       "      <td>NaN</td>\n",
       "      <td>NaN</td>\n",
       "      <td>NaN</td>\n",
       "      <td>NaN</td>\n",
       "      <td>NaN</td>\n",
       "    </tr>\n",
       "    <tr>\n",
       "      <th>2</th>\n",
       "      <td>cod</td>\n",
       "      <td>7/1/2016</td>\n",
       "      <td>Gross</td>\n",
       "      <td>2,450</td>\n",
       "      <td>2016.0</td>\n",
       "      <td>7.0</td>\n",
       "      <td>2016-7</td>\n",
       "      <td>7-2016</td>\n",
       "      <td>FY17</td>\n",
       "      <td>3.0</td>\n",
       "      <td>NaN</td>\n",
       "      <td>NaN</td>\n",
       "      <td>NaN</td>\n",
       "      <td>NaN</td>\n",
       "      <td>NaN</td>\n",
       "    </tr>\n",
       "    <tr>\n",
       "      <th>3</th>\n",
       "      <td>cod</td>\n",
       "      <td>7/1/2016</td>\n",
       "      <td>Net</td>\n",
       "      <td>360</td>\n",
       "      <td>2016.0</td>\n",
       "      <td>7.0</td>\n",
       "      <td>2016-7</td>\n",
       "      <td>7-2016</td>\n",
       "      <td>FY17</td>\n",
       "      <td>4.0</td>\n",
       "      <td>NaN</td>\n",
       "      <td>NaN</td>\n",
       "      <td>NaN</td>\n",
       "      <td>NaN</td>\n",
       "      <td>NaN</td>\n",
       "    </tr>\n",
       "    <tr>\n",
       "      <th>4</th>\n",
       "      <td>cod</td>\n",
       "      <td>7/1/2016</td>\n",
       "      <td>Valid</td>\n",
       "      <td>1,110</td>\n",
       "      <td>2016.0</td>\n",
       "      <td>7.0</td>\n",
       "      <td>2016-7</td>\n",
       "      <td>7-2016</td>\n",
       "      <td>FY17</td>\n",
       "      <td>5.0</td>\n",
       "      <td>NaN</td>\n",
       "      <td>NaN</td>\n",
       "      <td>NaN</td>\n",
       "      <td>NaN</td>\n",
       "      <td>NaN</td>\n",
       "    </tr>\n",
       "  </tbody>\n",
       "</table>\n",
       "</div>"
      ],
      "text/plain": [
       "  payment_method Working Date BI Status      MV     Year  Month  \\\n",
       "0            cod     7/1/2016     #REF!   1,950   2016.0    7.0   \n",
       "1            cod     7/1/2016     Gross     240   2016.0    7.0   \n",
       "2            cod     7/1/2016     Gross   2,450   2016.0    7.0   \n",
       "3            cod     7/1/2016       Net     360   2016.0    7.0   \n",
       "4            cod     7/1/2016     Valid   1,110   2016.0    7.0   \n",
       "\n",
       "  Customer Since     M-Y    FY  Customer ID  Unnamed: 21  Unnamed: 22  \\\n",
       "0         2016-7  7-2016  FY17          1.0          NaN          NaN   \n",
       "1         2016-7  7-2016  FY17          2.0          NaN          NaN   \n",
       "2         2016-7  7-2016  FY17          3.0          NaN          NaN   \n",
       "3         2016-7  7-2016  FY17          4.0          NaN          NaN   \n",
       "4         2016-7  7-2016  FY17          5.0          NaN          NaN   \n",
       "\n",
       "   Unnamed: 23  Unnamed: 24  Unnamed: 25  \n",
       "0          NaN          NaN          NaN  \n",
       "1          NaN          NaN          NaN  \n",
       "2          NaN          NaN          NaN  \n",
       "3          NaN          NaN          NaN  \n",
       "4          NaN          NaN          NaN  "
      ]
     },
     "execution_count": 37,
     "metadata": {},
     "output_type": "execute_result"
    }
   ],
   "source": [
    "data.head().iloc[:,11:]"
   ]
  },
  {
   "cell_type": "markdown",
   "metadata": {},
   "source": [
    "# Initial Observations"
   ]
  },
  {
   "cell_type": "code",
   "execution_count": 38,
   "metadata": {},
   "outputs": [
    {
     "name": "stdout",
     "output_type": "stream",
     "text": [
      "(1048575, 26)\n",
      "['item_id', 'status', 'created_at', 'sku', 'price', 'qty_ordered', 'grand_total', 'increment_id', 'category_name_1', 'sales_commission_code', 'discount_amount', 'payment_method', 'Working Date']\n",
      "['BI Status', ' MV ', 'Year', 'Month', 'Customer Since', 'M-Y', 'FY', 'Customer ID', 'Unnamed: 21', 'Unnamed: 22', 'Unnamed: 23', 'Unnamed: 24', 'Unnamed: 25']\n"
     ]
    }
   ],
   "source": [
    "print(data.shape)\n",
    "\n",
    "cols = list(data.columns)\n",
    "print(cols[:13])\n",
    "print(cols[13:])"
   ]
  },
  {
   "cell_type": "markdown",
   "metadata": {},
   "source": [
    "# Data Cleaning\n",
    "Null Values<br>\n",
    "Duplicate Values<br>\n",
    "False Data Types<br>\n",
    "False Values"
   ]
  },
  {
   "cell_type": "markdown",
   "metadata": {},
   "source": [
    "## Null Values\n",
    "### Columns"
   ]
  },
  {
   "cell_type": "code",
   "execution_count": 39,
   "metadata": {},
   "outputs": [
    {
     "name": "stdout",
     "output_type": "stream",
     "text": [
      "Percent missing values:\n"
     ]
    },
    {
     "data": {
      "text/plain": [
       "item_id                   44\n",
       "status                    44\n",
       "created_at                44\n",
       "sku                       44\n",
       "price                     44\n",
       "qty_ordered               44\n",
       "grand_total               44\n",
       "increment_id              44\n",
       "category_name_1           44\n",
       "sales_commission_code     57\n",
       "discount_amount           44\n",
       "payment_method            44\n",
       "Working Date              44\n",
       "BI Status                 44\n",
       " MV                       44\n",
       "Year                      44\n",
       "Month                     44\n",
       "Customer Since            44\n",
       "M-Y                       44\n",
       "FY                        44\n",
       "Customer ID               44\n",
       "Unnamed: 21              100\n",
       "Unnamed: 22              100\n",
       "Unnamed: 23              100\n",
       "Unnamed: 24              100\n",
       "Unnamed: 25              100\n",
       "dtype: int64"
      ]
     },
     "execution_count": 39,
     "metadata": {},
     "output_type": "execute_result"
    }
   ],
   "source": [
    "print(\"Percent missing values:\")\n",
    "((data.isna().sum() / data.shape[0]) * 100).astype(int)"
   ]
  },
  {
   "cell_type": "code",
   "execution_count": 40,
   "metadata": {},
   "outputs": [
    {
     "name": "stdout",
     "output_type": "stream",
     "text": [
      "(1048575, 21)\n",
      "Percent missing values:\n"
     ]
    },
    {
     "data": {
      "text/plain": [
       "item_id                  44.255394\n",
       "status                   44.256825\n",
       "created_at               44.255394\n",
       "sku                      44.257302\n",
       "price                    44.255394\n",
       "qty_ordered              44.255394\n",
       "grand_total              44.255394\n",
       "increment_id             44.255394\n",
       "category_name_1          44.271034\n",
       "sales_commission_code    57.337720\n",
       "discount_amount          44.255394\n",
       "payment_method           44.255394\n",
       "Working Date             44.255394\n",
       "BI Status                44.255394\n",
       " MV                      44.255394\n",
       "Year                     44.255394\n",
       "Month                    44.255394\n",
       "Customer Since           44.256443\n",
       "M-Y                      44.255394\n",
       "FY                       44.255394\n",
       "Customer ID              44.256443\n",
       "dtype: float64"
      ]
     },
     "execution_count": 40,
     "metadata": {},
     "output_type": "execute_result"
    }
   ],
   "source": [
    "data.drop([\"Unnamed: 21\", \"Unnamed: 22\", \"Unnamed: 23\", \"Unnamed: 24\", \"Unnamed: 25\"], axis=1, inplace=True)\n",
    "\n",
    "print(data.shape)\n",
    "print(\"Percent missing values:\")\n",
    "((data.isna().sum() / data.shape[0]) * 100)"
   ]
  },
  {
   "cell_type": "markdown",
   "metadata": {},
   "source": [
    "## Rows"
   ]
  },
  {
   "cell_type": "code",
   "execution_count": 41,
   "metadata": {},
   "outputs": [
    {
     "name": "stdout",
     "output_type": "stream",
     "text": [
      "(584524, 21)\n",
      "Percent missing values:\n"
     ]
    },
    {
     "data": {
      "text/plain": [
       "item_id                   0.000000\n",
       "status                    0.002566\n",
       "created_at                0.000000\n",
       "sku                       0.003422\n",
       "price                     0.000000\n",
       "qty_ordered               0.000000\n",
       "grand_total               0.000000\n",
       "increment_id              0.000000\n",
       "category_name_1           0.028057\n",
       "sales_commission_code    23.468326\n",
       "discount_amount           0.000000\n",
       "payment_method            0.000000\n",
       "Working Date              0.000000\n",
       "BI Status                 0.000000\n",
       " MV                       0.000000\n",
       "Year                      0.000000\n",
       "Month                     0.000000\n",
       "Customer Since            0.001882\n",
       "M-Y                       0.000000\n",
       "FY                        0.000000\n",
       "Customer ID               0.001882\n",
       "dtype: float64"
      ]
     },
     "execution_count": 41,
     "metadata": {},
     "output_type": "execute_result"
    }
   ],
   "source": [
    "data.dropna(axis=0, how=\"all\", inplace=True)\n",
    "\n",
    "print(data.shape)\n",
    "print(\"Percent missing values:\")\n",
    "((data.isna().sum() / data.shape[0]) * 100)"
   ]
  },
  {
   "cell_type": "code",
   "execution_count": 42,
   "metadata": {},
   "outputs": [
    {
     "name": "stdout",
     "output_type": "stream",
     "text": [
      "(584314, 21)\n",
      "Percent missing values:\n"
     ]
    },
    {
     "data": {
      "text/plain": [
       "item_id                   0.000000\n",
       "status                    0.000000\n",
       "created_at                0.000000\n",
       "sku                       0.000000\n",
       "price                     0.000000\n",
       "qty_ordered               0.000000\n",
       "grand_total               0.000000\n",
       "increment_id              0.000000\n",
       "category_name_1           0.000000\n",
       "sales_commission_code    23.444244\n",
       "discount_amount           0.000000\n",
       "payment_method            0.000000\n",
       "Working Date              0.000000\n",
       "BI Status                 0.000000\n",
       " MV                       0.000000\n",
       "Year                      0.000000\n",
       "Month                     0.000000\n",
       "Customer Since            0.000000\n",
       "M-Y                       0.000000\n",
       "FY                        0.000000\n",
       "Customer ID               0.000000\n",
       "dtype: float64"
      ]
     },
     "execution_count": 42,
     "metadata": {},
     "output_type": "execute_result"
    }
   ],
   "source": [
    "data.dropna(axis=0, subset=[\"status\", \"sku\", \"category_name_1\", \"Customer Since\", \"Customer ID\"], inplace=True)\n",
    "\n",
    "print(data.shape)\n",
    "print(\"Percent missing values:\")\n",
    "((data.isna().sum() / data.shape[0]) * 100)"
   ]
  },
  {
   "cell_type": "markdown",
   "metadata": {},
   "source": [
    "### Recommendation:\n",
    "`sales_commission_code` needs transformation from current unique values to True False value column"
   ]
  },
  {
   "cell_type": "markdown",
   "metadata": {},
   "source": [
    "## Duplicate Values"
   ]
  },
  {
   "cell_type": "code",
   "execution_count": 43,
   "metadata": {},
   "outputs": [
    {
     "data": {
      "text/plain": [
       "np.int64(0)"
      ]
     },
     "execution_count": 43,
     "metadata": {},
     "output_type": "execute_result"
    }
   ],
   "source": [
    "data.duplicated().sum()"
   ]
  },
  {
   "cell_type": "markdown",
   "metadata": {},
   "source": [
    "## False Data Types"
   ]
  },
  {
   "cell_type": "code",
   "execution_count": 44,
   "metadata": {},
   "outputs": [
    {
     "name": "stdout",
     "output_type": "stream",
     "text": [
      "<class 'pandas.core.frame.DataFrame'>\n",
      "Index: 584314 entries, 0 to 584523\n",
      "Data columns (total 21 columns):\n",
      " #   Column                 Non-Null Count   Dtype  \n",
      "---  ------                 --------------   -----  \n",
      " 0   item_id                584314 non-null  float64\n",
      " 1   status                 584314 non-null  object \n",
      " 2   created_at             584314 non-null  object \n",
      " 3   sku                    584314 non-null  object \n",
      " 4   price                  584314 non-null  float64\n",
      " 5   qty_ordered            584314 non-null  float64\n",
      " 6   grand_total            584314 non-null  float64\n",
      " 7   increment_id           584314 non-null  object \n",
      " 8   category_name_1        584314 non-null  object \n",
      " 9   sales_commission_code  447326 non-null  object \n",
      " 10  discount_amount        584314 non-null  float64\n",
      " 11  payment_method         584314 non-null  object \n",
      " 12  Working Date           584314 non-null  object \n",
      " 13  BI Status              584314 non-null  object \n",
      " 14   MV                    584314 non-null  object \n",
      " 15  Year                   584314 non-null  float64\n",
      " 16  Month                  584314 non-null  float64\n",
      " 17  Customer Since         584314 non-null  object \n",
      " 18  M-Y                    584314 non-null  object \n",
      " 19  FY                     584314 non-null  object \n",
      " 20  Customer ID            584314 non-null  float64\n",
      "dtypes: float64(8), object(13)\n",
      "memory usage: 98.1+ MB\n"
     ]
    }
   ],
   "source": [
    "data.info()"
   ]
  },
  {
   "cell_type": "code",
   "execution_count": 45,
   "metadata": {},
   "outputs": [
    {
     "name": "stdout",
     "output_type": "stream",
     "text": [
      "Are [Customer Since] and [M-Y] columns same or not?\n",
      "446735\n",
      "320718\n",
      "584314\n"
     ]
    }
   ],
   "source": [
    "print(\"Are [Customer Since] and [M-Y] columns same or not?\")\n",
    "print((data[\"Customer Since\"].str.split(\"-\").str[0] == data[\"M-Y\"].str.split(\"-\").str[1]).sum())\n",
    "print((data[\"Customer Since\"].str.split(\"-\").str[1] == data[\"M-Y\"].str.split(\"-\").str[0]).sum())\n",
    "print(data.shape[0])"
   ]
  },
  {
   "cell_type": "code",
   "execution_count": 46,
   "metadata": {},
   "outputs": [
    {
     "name": "stdout",
     "output_type": "stream",
     "text": [
      "object\n",
      "Object type is faulty\n",
      "object\n",
      "Object type is faulty\n"
     ]
    }
   ],
   "source": [
    "print(data[\" MV \"].dtype)\n",
    "try:\n",
    "    data[\" MV \"].astype(int)\n",
    "    print(\"Object type is fine\")\n",
    "except:\n",
    "    print(\"Object type is faulty\")\n",
    "\n",
    "print(data[\"increment_id\"].dtype)\n",
    "try:\n",
    "    data[\"increment_id\"].astype(int)\n",
    "    print(\"Object type is fine\")\n",
    "except:\n",
    "    print(\"Object type is faulty\")"
   ]
  },
  {
   "cell_type": "code",
   "execution_count": 47,
   "metadata": {},
   "outputs": [],
   "source": [
    "def correct_data_types(df):\n",
    "    df[\"item_id\"] = df[\"item_id\"].astype(int)\n",
    "    df[\"created_at\"] = pd.to_datetime(df[\"created_at\"], format=\"%m/%d/%Y\")\n",
    "    df[\"Working Date\"] = pd.to_datetime(df[\"Working Date\"], format=\"%m/%d/%Y\")\n",
    "    df[\"Year\"] = df[\"Year\"].astype(int)\n",
    "    df[\"Month\"] = df[\"Month\"].astype(int)\n",
    "    df[\"Customer Since\"] = pd.to_datetime(data[\"Customer Since\"], format=\"%Y-%m\")\n",
    "    df[\"M-Y\"] = pd.to_datetime(data[\"M-Y\"], format=\"%m-%Y\")\n",
    "    df[\"Customer ID\"] = df[\"Customer ID\"].astype(int)\n",
    "\n",
    "    return df"
   ]
  },
  {
   "cell_type": "code",
   "execution_count": 48,
   "metadata": {},
   "outputs": [
    {
     "name": "stdout",
     "output_type": "stream",
     "text": [
      "<class 'pandas.core.frame.DataFrame'>\n",
      "Index: 584314 entries, 0 to 584523\n",
      "Data columns (total 21 columns):\n",
      " #   Column                 Non-Null Count   Dtype         \n",
      "---  ------                 --------------   -----         \n",
      " 0   item_id                584314 non-null  int64         \n",
      " 1   status                 584314 non-null  object        \n",
      " 2   created_at             584314 non-null  datetime64[ns]\n",
      " 3   sku                    584314 non-null  object        \n",
      " 4   price                  584314 non-null  float64       \n",
      " 5   qty_ordered            584314 non-null  float64       \n",
      " 6   grand_total            584314 non-null  float64       \n",
      " 7   increment_id           584314 non-null  object        \n",
      " 8   category_name_1        584314 non-null  object        \n",
      " 9   sales_commission_code  447326 non-null  object        \n",
      " 10  discount_amount        584314 non-null  float64       \n",
      " 11  payment_method         584314 non-null  object        \n",
      " 12  Working Date           584314 non-null  datetime64[ns]\n",
      " 13  BI Status              584314 non-null  object        \n",
      " 14   MV                    584314 non-null  object        \n",
      " 15  Year                   584314 non-null  int64         \n",
      " 16  Month                  584314 non-null  int64         \n",
      " 17  Customer Since         584314 non-null  datetime64[ns]\n",
      " 18  M-Y                    584314 non-null  datetime64[ns]\n",
      " 19  FY                     584314 non-null  object        \n",
      " 20  Customer ID            584314 non-null  int64         \n",
      "dtypes: datetime64[ns](4), float64(4), int64(4), object(9)\n",
      "memory usage: 98.1+ MB\n"
     ]
    }
   ],
   "source": [
    "data = correct_data_types(data)\n",
    "data.info()"
   ]
  },
  {
   "cell_type": "code",
   "execution_count": 49,
   "metadata": {},
   "outputs": [],
   "source": [
    "import re\n",
    "\n",
    "def mv_dtype_clean_float(x):\n",
    "    x = re.sub(\"[^0-9]\", \"\", str(x).strip())\n",
    "    if x == \"\":\n",
    "        return 0.0\n",
    "    else:\n",
    "        return float(x)\n",
    "    \n",
    "def mv_dtype_clean_int(x):\n",
    "    x = re.sub(\"[^0-9]\", \"\", str(x).strip())\n",
    "    if x == \"\":\n",
    "        return 0.0\n",
    "    else:\n",
    "        return int(x)\n",
    "    \n",
    "data[\" MV \"] = data[\" MV \"].apply(lambda x:  mv_dtype_clean_float(x))\n",
    "data[\"increment_id\"] = data[\"increment_id\"].apply(lambda x:  mv_dtype_clean_int(x))"
   ]
  },
  {
   "cell_type": "code",
   "execution_count": 50,
   "metadata": {},
   "outputs": [
    {
     "name": "stdout",
     "output_type": "stream",
     "text": [
      "float64\n",
      "Object type is fine\n",
      "int64\n",
      "Object type is fine\n"
     ]
    }
   ],
   "source": [
    "print(data[\" MV \"].dtype)\n",
    "try:\n",
    "    data[\" MV \"].astype(int)\n",
    "    print(\"Object type is fine\")\n",
    "except:\n",
    "    print(\"Object type is faulty\")\n",
    "\n",
    "print(data[\"increment_id\"].dtype)\n",
    "try:\n",
    "    data[\"increment_id\"].astype(float)\n",
    "    print(\"Object type is fine\")\n",
    "except:\n",
    "    print(\"Object type is faulty\")"
   ]
  },
  {
   "cell_type": "markdown",
   "metadata": {},
   "source": [
    "# False Values"
   ]
  },
  {
   "cell_type": "markdown",
   "metadata": {},
   "source": [
    "## Identify"
   ]
  },
  {
   "cell_type": "code",
   "execution_count": 51,
   "metadata": {},
   "outputs": [
    {
     "name": "stdout",
     "output_type": "stream",
     "text": [
      "item_id | 584314\n",
      "status | 16\n",
      "created_at | 789\n",
      "sku | 84869\n",
      "price | 9119\n",
      "qty_ordered | 73\n",
      "grand_total | 36828\n",
      "increment_id | 408656\n",
      "category_name_1 | 16\n",
      "sales_commission_code | 7226\n",
      "discount_amount | 28058\n",
      "payment_method | 18\n",
      "Working Date | 789\n",
      "BI Status | 4\n",
      " MV  | 9719\n",
      "Year | 3\n",
      "Month | 12\n",
      "Customer Since | 26\n",
      "M-Y | 26\n",
      "FY | 3\n",
      "Customer ID | 115304\n"
     ]
    }
   ],
   "source": [
    "for col in data.columns:\n",
    "    print(col, \"|\", data[col].unique().shape[0])"
   ]
  },
  {
   "cell_type": "markdown",
   "metadata": {},
   "source": [
    "Columns to consider for unique false values:<br>\n",
    "`sku`, `status`, `category_name_1`, `sales_commission_code`, `payment_method`, `BI Status`, `Customer ID`"
   ]
  },
  {
   "cell_type": "code",
   "execution_count": 52,
   "metadata": {},
   "outputs": [
    {
     "name": "stdout",
     "output_type": "stream",
     "text": [
      "['complete', 'canceled', 'order_refunded', 'received', 'refund', 'closed', 'fraud', 'holded', 'exchange', 'pending_paypal', 'paid', '\\\\N', 'cod', 'pending', 'processing', 'payment_review']\n",
      "[\"Women's Fashion\", 'Beauty & Grooming', 'Soghaat', 'Mobiles & Tablets', 'Appliances', 'Home & Living', \"Men's Fashion\", 'Kids & Baby', '\\\\N', 'Others', 'Entertainment', 'Computing', 'Superstore', 'Health & Sports', 'Books', 'School & Education']\n",
      "['cod', 'ublcreditcard', 'mygateway', 'customercredit', 'cashatdoorstep', 'mcblite', 'internetbanking', 'marketingexpense', 'productcredit', 'financesettlement', 'Payaxis', 'jazzvoucher', 'jazzwallet', 'Easypay', 'Easypay_MA', 'easypay_voucher', 'bankalfalah', 'apg']\n",
      "['#REF!', 'Gross', 'Net', 'Valid']\n"
     ]
    }
   ],
   "source": [
    "print(list(data[\"status\"].unique()))\n",
    "print(list(data[\"category_name_1\"].unique()))\n",
    "print(list(data[\"payment_method\"].unique()))\n",
    "print(list(data[\"BI Status\"].unique()))"
   ]
  },
  {
   "cell_type": "code",
   "execution_count": 53,
   "metadata": {},
   "outputs": [],
   "source": [
    "def get_top_unique(df, col, num_results):\n",
    "    return df.sort_values(col)[col].iloc[:num_results]\n",
    "\n",
    "def get_less_char_values(df, col, plus):\n",
    "    \"\"\"\n",
    "        df: pd.DataFrame\n",
    "        col: column of pd.DataFrame\n",
    "        plus: number of characters more than minimum lengthed value\n",
    "    \"\"\"\n",
    "    temp = df[col].apply(lambda x: len(str(x)))\n",
    "    min = temp.min()\n",
    "    temp = temp.apply(lambda x: True if (x < (min+plus)) else False)\n",
    "    temp = df[col][temp]\n",
    "    return temp\n",
    "\n",
    "def get_non_alphabetic(df, col):\n",
    "    temp = df[col].apply(lambda x: str(x).isalnum()) == False\n",
    "    return df[temp][col]"
   ]
  },
  {
   "cell_type": "code",
   "execution_count": 54,
   "metadata": {},
   "outputs": [
    {
     "data": {
      "text/plain": [
       "0         \\N\n",
       "1         \\N\n",
       "2         \\N\n",
       "4         \\N\n",
       "5         \\N\n",
       "          ..\n",
       "424825    \\N\n",
       "424826    \\N\n",
       "424827    \\N\n",
       "424828    \\N\n",
       "450910    C_\n",
       "Name: sales_commission_code, Length: 338989, dtype: object"
      ]
     },
     "execution_count": 54,
     "metadata": {},
     "output_type": "execute_result"
    }
   ],
   "source": [
    "get_non_alphabetic(pd.DataFrame(get_less_char_values(data, \"sales_commission_code\", 2), columns=[\"sales_commission_code\"]), \"sales_commission_code\")"
   ]
  },
  {
   "cell_type": "code",
   "execution_count": 55,
   "metadata": {},
   "outputs": [
    {
     "data": {
      "text/plain": [
       "0          1\n",
       "1          2\n",
       "2          3\n",
       "3          4\n",
       "4          5\n",
       "          ..\n",
       "584121     4\n",
       "584224     4\n",
       "584225     4\n",
       "584227     4\n",
       "584315    20\n",
       "Name: Customer ID, Length: 15434, dtype: int64"
      ]
     },
     "execution_count": 55,
     "metadata": {},
     "output_type": "execute_result"
    }
   ],
   "source": [
    "get_less_char_values(data, \"Customer ID\", 2)"
   ]
  },
  {
   "cell_type": "code",
   "execution_count": 56,
   "metadata": {},
   "outputs": [
    {
     "name": "stdout",
     "output_type": "stream",
     "text": [
      "58.01384187269174\n"
     ]
    }
   ],
   "source": [
    "print((data[data[\"sales_commission_code\"] == \"\\\\N\"].shape[0] / data.shape[0]) * 100)"
   ]
  },
  {
   "cell_type": "code",
   "execution_count": 57,
   "metadata": {},
   "outputs": [
    {
     "name": "stdout",
     "output_type": "stream",
     "text": [
      "337253\n"
     ]
    }
   ],
   "source": [
    "print(get_non_alphabetic(data, \"sku\").shape[0])"
   ]
  },
  {
   "cell_type": "markdown",
   "metadata": {},
   "source": [
    "## Correct"
   ]
  },
  {
   "cell_type": "code",
   "execution_count": 58,
   "metadata": {},
   "outputs": [],
   "source": [
    "import re\n",
    "\n",
    "data[\"status\"] = data[\"status\"].replace({\"order_refunded\": \"refunded\", \"refund\": \"refunded\"})\n",
    "data[\"payment_method\"] = data[\"payment_method\"].replace({\"Payaxis\": \"payaxis\", \"Easypay\": \"easypay\", \"Easypay_MA\": \"easypay_ma\"})\n",
    "data[\"sales_commission_code\"] = data[\"sales_commission_code\"].replace({\"\\\\N\": None})\n",
    "\n",
    "data = data[data[\"status\"] != \"\\\\N\"]\n",
    "data = data[data[\"category_name_1\"] != \"\\\\N\"]\n",
    "data = data[data[\"BI Status\"] != \"#REF!\"]\n",
    "\n",
    "data[\"sku\"] = data[\"sku\"].apply(lambda x: re.sub(\"[^A-Za-z0-9]\",\"\",x))"
   ]
  },
  {
   "cell_type": "code",
   "execution_count": 59,
   "metadata": {},
   "outputs": [
    {
     "name": "stdout",
     "output_type": "stream",
     "text": [
      "['canceled', 'complete', 'refunded', 'received', 'closed', 'fraud', 'holded', 'exchange', 'pending_paypal', 'paid', 'cod', 'pending', 'processing', 'payment_review']\n",
      "['Beauty & Grooming', \"Women's Fashion\", 'Soghaat', 'Mobiles & Tablets', 'Appliances', 'Home & Living', \"Men's Fashion\", 'Kids & Baby', 'Others', 'Entertainment', 'Computing', 'Superstore', 'Health & Sports', 'Books', 'School & Education']\n",
      "['cod', 'ublcreditcard', 'mygateway', 'customercredit', 'cashatdoorstep', 'mcblite', 'internetbanking', 'productcredit', 'financesettlement', 'payaxis', 'marketingexpense', 'jazzvoucher', 'jazzwallet', 'easypay', 'easypay_ma', 'easypay_voucher', 'bankalfalah', 'apg']\n",
      "['Gross', 'Net', 'Valid']\n",
      "0\n"
     ]
    }
   ],
   "source": [
    "print(list(data[\"status\"].unique()))\n",
    "print(list(data[\"category_name_1\"].unique()))\n",
    "print(list(data[\"payment_method\"].unique()))\n",
    "print(list(data[\"BI Status\"].unique()))\n",
    "print(get_non_alphabetic(data, \"sku\").shape[0])"
   ]
  },
  {
   "cell_type": "markdown",
   "metadata": {},
   "source": [
    "# Transformation"
   ]
  },
  {
   "cell_type": "code",
   "execution_count": 60,
   "metadata": {},
   "outputs": [
    {
     "data": {
      "text/plain": [
       "1                None\n",
       "2                None\n",
       "3         R-FSD-52352\n",
       "4                None\n",
       "5                None\n",
       "             ...     \n",
       "584519            NaN\n",
       "584520            NaN\n",
       "584521            NaN\n",
       "584522            NaN\n",
       "584523            NaN\n",
       "Name: sales_commission_code, Length: 576480, dtype: object"
      ]
     },
     "execution_count": 60,
     "metadata": {},
     "output_type": "execute_result"
    }
   ],
   "source": [
    "data[\"sales_commission_code\"]"
   ]
  },
  {
   "cell_type": "code",
   "execution_count": 61,
   "metadata": {},
   "outputs": [
    {
     "data": {
      "text/plain": [
       "1         False\n",
       "2         False\n",
       "3          True\n",
       "4         False\n",
       "5         False\n",
       "          ...  \n",
       "584519    False\n",
       "584520    False\n",
       "584521    False\n",
       "584522    False\n",
       "584523    False\n",
       "Name: sales_commission_code, Length: 576480, dtype: bool"
      ]
     },
     "execution_count": 61,
     "metadata": {},
     "output_type": "execute_result"
    }
   ],
   "source": [
    "data[\"sales_commission_code\"] = data[\"sales_commission_code\"].isna() == False\n",
    "\n",
    "data[\"sales_commission_code\"]"
   ]
  },
  {
   "cell_type": "markdown",
   "metadata": {},
   "source": [
    "# Export"
   ]
  },
  {
   "cell_type": "code",
   "execution_count": 62,
   "metadata": {},
   "outputs": [
    {
     "data": {
      "text/html": [
       "<div>\n",
       "<style scoped>\n",
       "    .dataframe tbody tr th:only-of-type {\n",
       "        vertical-align: middle;\n",
       "    }\n",
       "\n",
       "    .dataframe tbody tr th {\n",
       "        vertical-align: top;\n",
       "    }\n",
       "\n",
       "    .dataframe thead th {\n",
       "        text-align: right;\n",
       "    }\n",
       "</style>\n",
       "<table border=\"1\" class=\"dataframe\">\n",
       "  <thead>\n",
       "    <tr style=\"text-align: right;\">\n",
       "      <th></th>\n",
       "      <th>item_id</th>\n",
       "      <th>status</th>\n",
       "      <th>created_at</th>\n",
       "      <th>sku</th>\n",
       "      <th>price</th>\n",
       "      <th>qty_ordered</th>\n",
       "      <th>grand_total</th>\n",
       "      <th>increment_id</th>\n",
       "      <th>category_name_1</th>\n",
       "      <th>sales_commission_code</th>\n",
       "    </tr>\n",
       "  </thead>\n",
       "  <tbody>\n",
       "    <tr>\n",
       "      <th>1</th>\n",
       "      <td>211133</td>\n",
       "      <td>canceled</td>\n",
       "      <td>2016-07-01</td>\n",
       "      <td>kccBuy2FreyAirFreshenerGet1KasualBodySprayFree</td>\n",
       "      <td>240.0</td>\n",
       "      <td>1.0</td>\n",
       "      <td>240.0</td>\n",
       "      <td>100147444</td>\n",
       "      <td>Beauty &amp; Grooming</td>\n",
       "      <td>False</td>\n",
       "    </tr>\n",
       "    <tr>\n",
       "      <th>2</th>\n",
       "      <td>211134</td>\n",
       "      <td>canceled</td>\n",
       "      <td>2016-07-01</td>\n",
       "      <td>EgoUP0017999MR0</td>\n",
       "      <td>2450.0</td>\n",
       "      <td>1.0</td>\n",
       "      <td>2450.0</td>\n",
       "      <td>100147445</td>\n",
       "      <td>Women's Fashion</td>\n",
       "      <td>False</td>\n",
       "    </tr>\n",
       "    <tr>\n",
       "      <th>3</th>\n",
       "      <td>211135</td>\n",
       "      <td>complete</td>\n",
       "      <td>2016-07-01</td>\n",
       "      <td>kcckronedeal</td>\n",
       "      <td>360.0</td>\n",
       "      <td>1.0</td>\n",
       "      <td>60.0</td>\n",
       "      <td>100147446</td>\n",
       "      <td>Beauty &amp; Grooming</td>\n",
       "      <td>True</td>\n",
       "    </tr>\n",
       "    <tr>\n",
       "      <th>4</th>\n",
       "      <td>211136</td>\n",
       "      <td>refunded</td>\n",
       "      <td>2016-07-01</td>\n",
       "      <td>BK7010400AG</td>\n",
       "      <td>555.0</td>\n",
       "      <td>2.0</td>\n",
       "      <td>1110.0</td>\n",
       "      <td>100147447</td>\n",
       "      <td>Soghaat</td>\n",
       "      <td>False</td>\n",
       "    </tr>\n",
       "    <tr>\n",
       "      <th>5</th>\n",
       "      <td>211137</td>\n",
       "      <td>canceled</td>\n",
       "      <td>2016-07-01</td>\n",
       "      <td>UKNamkinoAllInOne200Gms</td>\n",
       "      <td>80.0</td>\n",
       "      <td>1.0</td>\n",
       "      <td>80.0</td>\n",
       "      <td>100147448</td>\n",
       "      <td>Soghaat</td>\n",
       "      <td>False</td>\n",
       "    </tr>\n",
       "  </tbody>\n",
       "</table>\n",
       "</div>"
      ],
      "text/plain": [
       "   item_id    status created_at  \\\n",
       "1   211133  canceled 2016-07-01   \n",
       "2   211134  canceled 2016-07-01   \n",
       "3   211135  complete 2016-07-01   \n",
       "4   211136  refunded 2016-07-01   \n",
       "5   211137  canceled 2016-07-01   \n",
       "\n",
       "                                              sku   price  qty_ordered  \\\n",
       "1  kccBuy2FreyAirFreshenerGet1KasualBodySprayFree   240.0          1.0   \n",
       "2                                 EgoUP0017999MR0  2450.0          1.0   \n",
       "3                                    kcckronedeal   360.0          1.0   \n",
       "4                                     BK7010400AG   555.0          2.0   \n",
       "5                         UKNamkinoAllInOne200Gms    80.0          1.0   \n",
       "\n",
       "   grand_total  increment_id    category_name_1  sales_commission_code  \n",
       "1        240.0     100147444  Beauty & Grooming                  False  \n",
       "2       2450.0     100147445    Women's Fashion                  False  \n",
       "3         60.0     100147446  Beauty & Grooming                   True  \n",
       "4       1110.0     100147447            Soghaat                  False  \n",
       "5         80.0     100147448            Soghaat                  False  "
      ]
     },
     "execution_count": 62,
     "metadata": {},
     "output_type": "execute_result"
    }
   ],
   "source": [
    "data.head().iloc[:, :10]"
   ]
  },
  {
   "cell_type": "code",
   "execution_count": 63,
   "metadata": {},
   "outputs": [
    {
     "data": {
      "text/html": [
       "<div>\n",
       "<style scoped>\n",
       "    .dataframe tbody tr th:only-of-type {\n",
       "        vertical-align: middle;\n",
       "    }\n",
       "\n",
       "    .dataframe tbody tr th {\n",
       "        vertical-align: top;\n",
       "    }\n",
       "\n",
       "    .dataframe thead th {\n",
       "        text-align: right;\n",
       "    }\n",
       "</style>\n",
       "<table border=\"1\" class=\"dataframe\">\n",
       "  <thead>\n",
       "    <tr style=\"text-align: right;\">\n",
       "      <th></th>\n",
       "      <th>discount_amount</th>\n",
       "      <th>payment_method</th>\n",
       "      <th>Working Date</th>\n",
       "      <th>BI Status</th>\n",
       "      <th>MV</th>\n",
       "      <th>Year</th>\n",
       "      <th>Month</th>\n",
       "      <th>Customer Since</th>\n",
       "      <th>M-Y</th>\n",
       "      <th>FY</th>\n",
       "      <th>Customer ID</th>\n",
       "    </tr>\n",
       "  </thead>\n",
       "  <tbody>\n",
       "    <tr>\n",
       "      <th>1</th>\n",
       "      <td>0.0</td>\n",
       "      <td>cod</td>\n",
       "      <td>2016-07-01</td>\n",
       "      <td>Gross</td>\n",
       "      <td>240.0</td>\n",
       "      <td>2016</td>\n",
       "      <td>7</td>\n",
       "      <td>2016-07-01</td>\n",
       "      <td>2016-07-01</td>\n",
       "      <td>FY17</td>\n",
       "      <td>2</td>\n",
       "    </tr>\n",
       "    <tr>\n",
       "      <th>2</th>\n",
       "      <td>0.0</td>\n",
       "      <td>cod</td>\n",
       "      <td>2016-07-01</td>\n",
       "      <td>Gross</td>\n",
       "      <td>2450.0</td>\n",
       "      <td>2016</td>\n",
       "      <td>7</td>\n",
       "      <td>2016-07-01</td>\n",
       "      <td>2016-07-01</td>\n",
       "      <td>FY17</td>\n",
       "      <td>3</td>\n",
       "    </tr>\n",
       "    <tr>\n",
       "      <th>3</th>\n",
       "      <td>300.0</td>\n",
       "      <td>cod</td>\n",
       "      <td>2016-07-01</td>\n",
       "      <td>Net</td>\n",
       "      <td>360.0</td>\n",
       "      <td>2016</td>\n",
       "      <td>7</td>\n",
       "      <td>2016-07-01</td>\n",
       "      <td>2016-07-01</td>\n",
       "      <td>FY17</td>\n",
       "      <td>4</td>\n",
       "    </tr>\n",
       "    <tr>\n",
       "      <th>4</th>\n",
       "      <td>0.0</td>\n",
       "      <td>cod</td>\n",
       "      <td>2016-07-01</td>\n",
       "      <td>Valid</td>\n",
       "      <td>1110.0</td>\n",
       "      <td>2016</td>\n",
       "      <td>7</td>\n",
       "      <td>2016-07-01</td>\n",
       "      <td>2016-07-01</td>\n",
       "      <td>FY17</td>\n",
       "      <td>5</td>\n",
       "    </tr>\n",
       "    <tr>\n",
       "      <th>5</th>\n",
       "      <td>0.0</td>\n",
       "      <td>cod</td>\n",
       "      <td>2016-07-01</td>\n",
       "      <td>Gross</td>\n",
       "      <td>80.0</td>\n",
       "      <td>2016</td>\n",
       "      <td>7</td>\n",
       "      <td>2016-07-01</td>\n",
       "      <td>2016-07-01</td>\n",
       "      <td>FY17</td>\n",
       "      <td>6</td>\n",
       "    </tr>\n",
       "  </tbody>\n",
       "</table>\n",
       "</div>"
      ],
      "text/plain": [
       "   discount_amount payment_method Working Date BI Status     MV   Year  Month  \\\n",
       "1              0.0            cod   2016-07-01     Gross   240.0  2016      7   \n",
       "2              0.0            cod   2016-07-01     Gross  2450.0  2016      7   \n",
       "3            300.0            cod   2016-07-01       Net   360.0  2016      7   \n",
       "4              0.0            cod   2016-07-01     Valid  1110.0  2016      7   \n",
       "5              0.0            cod   2016-07-01     Gross    80.0  2016      7   \n",
       "\n",
       "  Customer Since        M-Y    FY  Customer ID  \n",
       "1     2016-07-01 2016-07-01  FY17            2  \n",
       "2     2016-07-01 2016-07-01  FY17            3  \n",
       "3     2016-07-01 2016-07-01  FY17            4  \n",
       "4     2016-07-01 2016-07-01  FY17            5  \n",
       "5     2016-07-01 2016-07-01  FY17            6  "
      ]
     },
     "execution_count": 63,
     "metadata": {},
     "output_type": "execute_result"
    }
   ],
   "source": [
    "data.head().iloc[:, 10:]"
   ]
  },
  {
   "cell_type": "code",
   "execution_count": 64,
   "metadata": {},
   "outputs": [],
   "source": [
    "# data.to_csv(path+\"processed/data.csv\", index=False)"
   ]
  }
 ],
 "metadata": {
  "kernelspec": {
   "display_name": "local_env",
   "language": "python",
   "name": "python3"
  },
  "language_info": {
   "codemirror_mode": {
    "name": "ipython",
    "version": 3
   },
   "file_extension": ".py",
   "mimetype": "text/x-python",
   "name": "python",
   "nbconvert_exporter": "python",
   "pygments_lexer": "ipython3",
   "version": "3.12.6"
  }
 },
 "nbformat": 4,
 "nbformat_minor": 2
}
